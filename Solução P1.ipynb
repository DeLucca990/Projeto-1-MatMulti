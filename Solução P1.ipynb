{
 "cells": [
  {
   "cell_type": "markdown",
   "id": "1e301775",
   "metadata": {},
   "source": [
    "# Projeto 1 MatMulti"
   ]
  },
  {
   "cell_type": "markdown",
   "id": "ebbe9714",
   "metadata": {},
   "source": [
    "## Alunos\n",
    "* Pedro De Lucca\n",
    "* Pedro Dutra\n",
    "* Fernando Mattos"
   ]
  },
  {
   "cell_type": "code",
   "execution_count": 15,
   "id": "a495e539",
   "metadata": {},
   "outputs": [],
   "source": [
    "import numpy as np\n",
    "from scipy.optimize import fsolve"
   ]
  },
  {
   "cell_type": "markdown",
   "id": "11a4e059",
   "metadata": {},
   "source": [
    "## Raízes "
   ]
  },
  {
   "cell_type": "markdown",
   "id": "696fa06c",
   "metadata": {},
   "source": [
    "### Para: x + y = 3pi (Ao longo do eixo Y // Para X = 0) "
   ]
  },
  {
   "cell_type": "code",
   "execution_count": 16,
   "id": "e65502bd",
   "metadata": {
    "scrolled": false
   },
   "outputs": [
    {
     "name": "stdout",
     "output_type": "stream",
     "text": [
      "Keys representam às RAÍZES e Values às COORDENADAS em Y\n",
      "{-8.49635: (-1.70301, -1.70301), -4.55484: (6.56504, 6.56504)}\n"
     ]
    }
   ],
   "source": [
    "dic={}\n",
    "def f(b):\n",
    "    return 4*np.sin(b/2) + 5*np.sin(5*b/6)\n",
    "\n",
    "for x0 in np.linspace(-3*np.pi, 0, 20):\n",
    "    root = fsolve(f, x0)\n",
    "    x = (3*np.pi + root)/2\n",
    "    y = (3*np.pi - root)/2\n",
    "    coord_y1=4*np.sin(x) - 5*np.sin(5*x/3)\n",
    "    coord_y2=4*np.sin(y) - 5*np.sin(5*y/3)\n",
    "    if -3*np.pi < root < 0 and 0<=x<6*np.pi and 0<=y<6*np.pi:\n",
    "        if round(float(root),5) not in dic.items():\n",
    "            dic[round(float(root),5)] = (round(float(coord_y1),5), round(float(coord_y2),5))\n",
    "print('Keys representam às RAÍZES e Values às COORDENADAS em Y')\n",
    "print(dic)"
   ]
  },
  {
   "cell_type": "markdown",
   "id": "984ac364",
   "metadata": {},
   "source": [
    "### Para: x + y = 6pi (Ao longo do eixo X // Para Y = 0)"
   ]
  },
  {
   "cell_type": "code",
   "execution_count": 17,
   "id": "6c936452",
   "metadata": {},
   "outputs": [
    {
     "name": "stdout",
     "output_type": "stream",
     "text": [
      "Keys representam às RAÍZES e Values às COORDENADAS em X\n",
      "{-16.15366: (4.01158, 4.01158), -11.71415: (-8.36106, -8.36106), -7.13541: (8.36106, 8.36106), -2.6959: (-4.01158, -4.01158)}\n"
     ]
    }
   ],
   "source": [
    "dic={}\n",
    "def f(b):\n",
    "    return 4*np.sin(b/2) - 5*np.sin(5*b/6)\n",
    "\n",
    "for x0 in np.linspace(-6*np.pi, 0, 20):\n",
    "    root = fsolve(f, x0)\n",
    "    x = (6*np.pi + root)/2\n",
    "    y = (6*np.pi - root)/2\n",
    "    coord_x1=4*np.cos(x) - 5*np.cos(5*x/3)\n",
    "    coord_x2=4*np.cos(y) - 5*np.cos(5*y/3)\n",
    "    if -6*np.pi < root < 0 and 0<=x<6*np.pi and 0<=y<6*np.pi:\n",
    "        if round(float(root),5) not in dic.items():\n",
    "            dic[round(float(root),5)] = (round(float(coord_x1),5), round(float(coord_x2),5))\n",
    "print('Keys representam às RAÍZES e Values às COORDENADAS em X')\n",
    "print(dic)"
   ]
  },
  {
   "cell_type": "markdown",
   "id": "0074a586",
   "metadata": {},
   "source": [
    "### Para: x + y = 9pi (Ao longo do eixo Y // Para X = 0)"
   ]
  },
  {
   "cell_type": "code",
   "execution_count": 18,
   "id": "2476e44d",
   "metadata": {},
   "outputs": [
    {
     "name": "stdout",
     "output_type": "stream",
     "text": [
      "Keys representam às RAÍZES e Values às COORDENADAS em Y\n",
      "{-8.49635: (1.70301, 1.70301), -4.55484: (-6.56504, -6.56504)}\n"
     ]
    }
   ],
   "source": [
    "dic={}\n",
    "def f(b):\n",
    "    return 4*np.sin(b/2) + 5*np.sin(5*b/6)\n",
    "\n",
    "for x0 in np.linspace(-9*np.pi, 0, 20):\n",
    "    root = fsolve(f, x0)\n",
    "    x = (9*np.pi + root)/2\n",
    "    y = (9*np.pi - root)/2\n",
    "    coord_y1=4*np.sin(x) - 5*np.sin(5*x/3)\n",
    "    coord_y2=4*np.sin(y) - 5*np.sin(5*y/3)\n",
    "    if -9*np.pi < root < 0 and 0<=x<6*np.pi and 0<=y<6*np.pi:\n",
    "        if round(float(root),5) not in dic.items():\n",
    "            dic[round(float(root),5)] = (round(float(coord_y1),5), round(float(coord_y2),5))\n",
    "print('Keys representam às RAÍZES e Values às COORDENADAS em Y')\n",
    "print(dic)"
   ]
  },
  {
   "cell_type": "markdown",
   "id": "acb3f256",
   "metadata": {},
   "source": [
    "## Pontos em que a reta tangente é:"
   ]
  },
  {
   "cell_type": "markdown",
   "id": "5292fdd9",
   "metadata": {},
   "source": [
    "### Vertical"
   ]
  },
  {
   "cell_type": "code",
   "execution_count": 19,
   "id": "f209f4ff",
   "metadata": {},
   "outputs": [
    {
     "name": "stdout",
     "output_type": "stream",
     "text": [
      "Keys representam às RAÍZES e Values às COORDENADAS (X, Y)\n",
      "{-17.26496: (4.33128, 1.59985), -15.2167: (-8.39707, -0.75479), -13.05764: (8.39707, -0.75479), -9.42478: (1.0, 0.0), -11.00937: (-4.33128, 1.59985), -7.84018: (-4.33128, -1.59985), -5.79192: (8.39707, 0.75479), -3.63286: (-8.39707, 0.75479), -1.58459: (4.33128, -1.59985)}\n"
     ]
    }
   ],
   "source": [
    "dic={}\n",
    "def f(t):\n",
    "    return -4*np.sin(t) + (25/3)*np.sin((5*t)/3)\n",
    "for x0 in np.linspace(-6*np.pi, 0, 20):\n",
    "    root = fsolve(f, x0)\n",
    "    coord_x = 4*np.cos(root) - 5*np.cos(5*root/3)\n",
    "    coord_y = 4*np.sin(root) - 5*np.sin(5*root/3)\n",
    "    if -6*np.pi < root < 0:\n",
    "        if round(float(root),5) not in dic.items():\n",
    "            dic[round(float(root),5)] = (round(float(coord_x),5), round(float(coord_y),5))\n",
    "print('Keys representam às RAÍZES e Values às COORDENADAS (X, Y)')\n",
    "print(dic)"
   ]
  },
  {
   "cell_type": "markdown",
   "id": "96bbff9c",
   "metadata": {},
   "source": [
    "### Horizontal"
   ]
  },
  {
   "cell_type": "code",
   "execution_count": 20,
   "id": "04700af9",
   "metadata": {},
   "outputs": [
    {
     "name": "stdout",
     "output_type": "stream",
     "text": [
      "Keys representam às RAÍZES e Values às COORDENADAS (X, Y)\n",
      "{-18.12835: (1.20162, -2.02266), -16.27263: (-1.35163, 6.71104), -14.13717: (-0.0, -9.0), -10.14598: (-1.20162, -2.02266), -12.0017: (1.35163, 6.71104), -8.70357: (-1.20162, 2.02266), -6.84785: (1.35163, -6.71104), -4.71239: (-0.0, 9.0), -2.57693: (-1.35163, -6.71104), -0.72121: (1.20162, 2.02266)}\n"
     ]
    }
   ],
   "source": [
    "dic={}\n",
    "def f(t):\n",
    "    return 4*np.cos(t) - (25/3)*np.cos((5*t)/3)\n",
    "for x0 in np.linspace(-6*np.pi, 0, 20):\n",
    "    root = fsolve(f, x0)\n",
    "    coord_x = 4*np.cos(root) - 5*np.cos(5*root/3)\n",
    "    coord_y = 4*np.sin(root) - 5*np.sin(5*root/3)\n",
    "    if -6*np.pi < root < 0:\n",
    "        if round(float(root),5) not in dic.items():\n",
    "            dic[round(float(root),5)] = (round(float(coord_x),5), round(float(coord_y),5))\n",
    "print('Keys representam às RAÍZES e Values às COORDENADAS (X, Y)')\n",
    "print(dic)"
   ]
  }
 ],
 "metadata": {
  "kernelspec": {
   "display_name": "Python 3 (ipykernel)",
   "language": "python",
   "name": "python3"
  },
  "language_info": {
   "codemirror_mode": {
    "name": "ipython",
    "version": 3
   },
   "file_extension": ".py",
   "mimetype": "text/x-python",
   "name": "python",
   "nbconvert_exporter": "python",
   "pygments_lexer": "ipython3",
   "version": "3.9.7"
  }
 },
 "nbformat": 4,
 "nbformat_minor": 5
}
